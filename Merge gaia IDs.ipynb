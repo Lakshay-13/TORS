{
 "cells": [
  {
   "cell_type": "code",
   "execution_count": 1,
   "id": "922e7d18",
   "metadata": {},
   "outputs": [],
   "source": [
    "## Import required libraries\n",
    "\n",
    "import polars as pl"
   ]
  },
  {
   "cell_type": "code",
   "execution_count": 2,
   "id": "6e0b2bfa",
   "metadata": {},
   "outputs": [],
   "source": [
    "df_cep = pl.read_csv('gaia_classes_with positions\\\\cepheids.csv')\n",
    "df_lpv = pl.read_csv('gaia_classes_with positions\\\\long_period_variables.csv')\n",
    "df_rr = pl.read_csv(\"gaia_classes_with positions\\\\rrlyrae.csv\")\n",
    "df_ecl = pl.read_csv(\"gaia_classes_with positions\\\\eclipsing_binaries.csv\")"
   ]
  },
  {
   "cell_type": "code",
   "execution_count": 3,
   "id": "5db7aba4",
   "metadata": {},
   "outputs": [],
   "source": [
    "cep = ['CEP' for i in range(df_cep.shape[0])]\n",
    "df_cep = df_cep.with_columns(pl.Series(\"class\", cep))"
   ]
  },
  {
   "cell_type": "code",
   "execution_count": 4,
   "id": "510e0a3f",
   "metadata": {},
   "outputs": [],
   "source": [
    "lpv = ['LPV' for i in range(df_lpv.shape[0])]\n",
    "df_lpv = df_lpv.with_columns(pl.Series(\"class\", lpv))"
   ]
  },
  {
   "cell_type": "code",
   "execution_count": 5,
   "id": "d3e9ea66",
   "metadata": {},
   "outputs": [],
   "source": [
    "rr = ['RR' for i in range(df_rr.shape[0])]\n",
    "df_rr = df_rr.with_columns(pl.Series(\"class\", rr))"
   ]
  },
  {
   "cell_type": "code",
   "execution_count": 6,
   "id": "bc35758f",
   "metadata": {},
   "outputs": [],
   "source": [
    "ecl = ['ECL' for i in range(df_ecl.shape[0])]\n",
    "df_ecl = df_ecl.with_columns(pl.Series(\"class\", ecl))"
   ]
  },
  {
   "cell_type": "code",
   "execution_count": 7,
   "id": "2e6cd2cf",
   "metadata": {},
   "outputs": [],
   "source": [
    "vari_stars = pl.concat([df_cep, df_lpv, df_rr, df_ecl])"
   ]
  },
  {
   "cell_type": "code",
   "execution_count": 8,
   "id": "053cbef7",
   "metadata": {},
   "outputs": [],
   "source": [
    "vari_stars.write_parquet('variable_stars_with_pos.parquet')"
   ]
  }
 ],
 "metadata": {
  "kernelspec": {
   "display_name": "Python 3 (ipykernel)",
   "language": "python",
   "name": "python3"
  },
  "language_info": {
   "codemirror_mode": {
    "name": "ipython",
    "version": 3
   },
   "file_extension": ".py",
   "mimetype": "text/x-python",
   "name": "python",
   "nbconvert_exporter": "python",
   "pygments_lexer": "ipython3",
   "version": "3.9.16"
  }
 },
 "nbformat": 4,
 "nbformat_minor": 5
}
