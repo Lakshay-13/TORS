{
 "cells": [
  {
   "cell_type": "code",
   "execution_count": 1,
   "id": "c1c5dac8",
   "metadata": {},
   "outputs": [],
   "source": [
    "## Import required libraries\n",
    "\n",
    "import time\n",
    "import requests\n",
    "import numpy as np\n",
    "import polars as pl\n",
    "from bs4 import BeautifulSoup\n",
    "from tqdm import tqdm_notebook"
   ]
  },
  {
   "cell_type": "code",
   "execution_count": 2,
   "id": "4256741c",
   "metadata": {},
   "outputs": [],
   "source": [
    "import warnings\n",
    "warnings.filterwarnings('ignore')"
   ]
  },
  {
   "cell_type": "code",
   "execution_count": 3,
   "id": "0b9ff9ff",
   "metadata": {},
   "outputs": [],
   "source": [
    "base_link = 'https://irsa.ipac.caltech.edu/data/ZTF/lc/lc_dr16/'"
   ]
  },
  {
   "cell_type": "code",
   "execution_count": 4,
   "id": "c799dd6e",
   "metadata": {},
   "outputs": [
    {
     "data": {
      "application/vnd.jupyter.widget-view+json": {
       "model_id": "e9cb419085844e8189ffd3c6387fbd64",
       "version_major": 2,
       "version_minor": 0
      },
      "text/plain": [
       "  0%|          | 0/2 [00:00<?, ?it/s]"
      ]
     },
     "metadata": {},
     "output_type": "display_data"
    },
    {
     "data": {
      "application/vnd.jupyter.widget-view+json": {
       "model_id": "80882410378842b89fe7cb87199469eb",
       "version_major": 2,
       "version_minor": 0
      },
      "text/plain": [
       "  0%|          | 0/636 [00:00<?, ?it/s]"
      ]
     },
     "metadata": {},
     "output_type": "display_data"
    },
    {
     "data": {
      "application/vnd.jupyter.widget-view+json": {
       "model_id": "a2aad05725ad4a7f9bfd5eccf4e74385",
       "version_major": 2,
       "version_minor": 0
      },
      "text/plain": [
       "  0%|          | 0/636 [00:00<?, ?it/s]"
      ]
     },
     "metadata": {},
     "output_type": "display_data"
    }
   ],
   "source": [
    "for i in tqdm_notebook(range(2)):\n",
    "    links = []\n",
    "    first_add = base_link + '0/'\n",
    "    try:\n",
    "        req = requests.get(base_link + '0/')\n",
    "    except:\n",
    "        print(f'{first_add} failed.')\n",
    "    soup = BeautifulSoup(req.text, 'html.parser')\n",
    "    temp = soup.find_all('a')\n",
    "    for i in tqdm_notebook(temp[5:]):\n",
    "        second_add = first_add + i.text\n",
    "        try:\n",
    "            req = requests.get(second_add)\n",
    "        except:\n",
    "            print(f'{second_add} failed.')\n",
    "        soup = BeautifulSoup(req.text, 'html.parser')\n",
    "        temp_2 = soup.find_all('a')\n",
    "        for j in temp_2[5:]:\n",
    "            third_add = second_add + j.text\n",
    "            links.append(third_add)\n",
    "        time.sleep(5)"
   ]
  },
  {
   "cell_type": "code",
   "execution_count": 5,
   "id": "3adae378",
   "metadata": {},
   "outputs": [],
   "source": [
    "with open('ztf_links.dat', 'w') as f:\n",
    "    for i in links:\n",
    "        f.write(i + '\\n')"
   ]
  },
  {
   "cell_type": "code",
   "execution_count": null,
   "id": "2e34513a",
   "metadata": {},
   "outputs": [],
   "source": []
  }
 ],
 "metadata": {
  "kernelspec": {
   "display_name": "Python 3 (ipykernel)",
   "language": "python",
   "name": "python3"
  },
  "language_info": {
   "codemirror_mode": {
    "name": "ipython",
    "version": 3
   },
   "file_extension": ".py",
   "mimetype": "text/x-python",
   "name": "python",
   "nbconvert_exporter": "python",
   "pygments_lexer": "ipython3",
   "version": "3.9.16"
  }
 },
 "nbformat": 4,
 "nbformat_minor": 5
}
